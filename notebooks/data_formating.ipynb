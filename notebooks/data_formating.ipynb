{
 "cells": [
  {
   "cell_type": "code",
   "execution_count": null,
   "id": "dee42e39-84e4-4a29-8ca9-88332647bed4",
   "metadata": {},
   "outputs": [],
   "source": [
    "import pandas as pd\n",
    "import functions as func\n",
    "import numpy as np\n",
    "import seaborn as sns\n",
    "\n",
    "db_locations = func.import_yaml()\n",
    "\n",
    "\n",
    "#load df\n",
    "df = pd.read_csv(db_locations['data_clean']['train'])\n",
    "df_test = pd.read_csv(db_locations['data_clean']['test'])\n",
    "\n"
   ]
  },
  {
   "cell_type": "code",
   "execution_count": null,
   "id": "399a5623-7a70-49a2-a677-0954e4a8655a",
   "metadata": {},
   "outputs": [],
   "source": [
    "#Convert the df using th tokenization and removal of stopwords with spacy\n",
    "df['cleaned_text'] = df['Phrase'].apply(func.convert_token)\n",
    "df_test['cleaned_text'] = df_test['Phrase'].apply(func.convert_token)"
   ]
  },
  {
   "cell_type": "code",
   "execution_count": null,
   "id": "3b0f8281-9b0d-41fb-b832-c46cb442f8ee",
   "metadata": {},
   "outputs": [],
   "source": [
    "#saving the new data set formated by spacy withou any other change\n",
    "df.to_csv(db_locations['data_clean']['spacy_train'],index = False)\n",
    "df_test.to_csv(db_locations['data_clean']['spacy_test'],index = False)\n"
   ]
  },
  {
   "cell_type": "code",
   "execution_count": null,
   "id": "fa1b43ab-e235-4fb6-810a-b457727b1406",
   "metadata": {},
   "outputs": [],
   "source": [
    "#load df\n",
    "df = pd.read_csv(db_locations['data_clean']['train'])\n",
    "df_test = pd.read_csv(db_locations['data_clean']['test'])"
   ]
  },
  {
   "cell_type": "code",
   "execution_count": null,
   "id": "9a89c22d-217c-47b3-b956-bbc3d4b00dca",
   "metadata": {},
   "outputs": [],
   "source": []
  }
 ],
 "metadata": {
  "kernelspec": {
   "display_name": "proj_env",
   "language": "python",
   "name": "proj_env"
  },
  "language_info": {
   "codemirror_mode": {
    "name": "ipython",
    "version": 3
   },
   "file_extension": ".py",
   "mimetype": "text/x-python",
   "name": "python",
   "nbconvert_exporter": "python",
   "pygments_lexer": "ipython3",
   "version": "3.12.4"
  }
 },
 "nbformat": 4,
 "nbformat_minor": 5
}
